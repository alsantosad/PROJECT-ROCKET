{
  "cells": [
    {
      "cell_type": "markdown",
      "metadata": {
        "colab_type": "text",
        "id": "view-in-github"
      },
      "source": [
        "<a href=\"https://colab.research.google.com/github/alsantosad/PROJECT-ROCKET/blob/master/PROJETO_ROCKET.ipynb\" target=\"_parent\"><img src=\"https://colab.research.google.com/assets/colab-badge.svg\" alt=\"Open In Colab\"/></a>"
      ]
    },
    {
      "cell_type": "markdown",
      "metadata": {},
      "source": [
        "## **Importando Dados do GitHub**"
      ]
    },
    {
      "cell_type": "markdown",
      "metadata": {},
      "source": [
        "### ***Importando biblioteca Pandas***"
      ]
    },
    {
      "cell_type": "code",
      "execution_count": 9,
      "metadata": {},
      "outputs": [],
      "source": [
        "import pandas as pd"
      ]
    },
    {
      "cell_type": "markdown",
      "metadata": {},
      "source": [
        "### ***Leitura dos DataSets***"
      ]
    },
    {
      "cell_type": "code",
      "execution_count": null,
      "metadata": {},
      "outputs": [],
      "source": [
        "\n",
        "data11 = pd.read_csv('./DADOS/precos-gasolina-etanol-11.csv', sep=';')\n",
        "data10 = pd.read_csv('./DADOS/precos-gasolina-etanol-10.csv',sep=';')\n",
        "data10"
      ]
    },
    {
      "cell_type": "markdown",
      "metadata": {},
      "source": [
        "```data11.head()``` ou ```.head()```\n",
        "Exibirá as primeiras cinco linhas do DataFrame chamado data11. Essa operação é útil para dar uma rápida olhada nos dados e entender sua estrutura e conteúdo.**"
      ]
    },
    {
      "cell_type": "code",
      "execution_count": null,
      "metadata": {},
      "outputs": [],
      "source": [
        "data11.head()"
      ]
    },
    {
      "cell_type": "markdown",
      "metadata": {},
      "source": [
        "***Informações Gerais do DataSet***\n",
        "Com essas informações conseguimos fazer uma limpeza dos valores nulos por exemplo."
      ]
    },
    {
      "cell_type": "code",
      "execution_count": 13,
      "metadata": {},
      "outputs": [
        {
          "name": "stdout",
          "output_type": "stream",
          "text": [
            "<class 'pandas.core.frame.DataFrame'>\n",
            "RangeIndex: 52543 entries, 0 to 52542\n",
            "Data columns (total 16 columns):\n",
            " #   Column             Non-Null Count  Dtype  \n",
            "---  ------             --------------  -----  \n",
            " 0   Regiao - Sigla     52543 non-null  object \n",
            " 1   Estado - Sigla     52543 non-null  object \n",
            " 2   Municipio          52543 non-null  object \n",
            " 3   Revenda            52543 non-null  object \n",
            " 4   CNPJ da Revenda    52543 non-null  object \n",
            " 5   Nome da Rua        52543 non-null  object \n",
            " 6   Numero Rua         52520 non-null  object \n",
            " 7   Complemento        12131 non-null  object \n",
            " 8   Bairro             52437 non-null  object \n",
            " 9   Cep                52543 non-null  object \n",
            " 10  Produto            52543 non-null  object \n",
            " 11  Data da Coleta     52543 non-null  object \n",
            " 12  Valor de Venda     52543 non-null  object \n",
            " 13  Valor de Compra    0 non-null      float64\n",
            " 14  Unidade de Medida  52543 non-null  object \n",
            " 15  Bandeira           52543 non-null  object \n",
            "dtypes: float64(1), object(15)\n",
            "memory usage: 6.4+ MB\n"
          ]
        }
      ],
      "source": [
        "data11.info()"
      ]
    },
    {
      "cell_type": "markdown",
      "metadata": {
        "id": "4Z2KtCzbt7fv"
      },
      "source": [
        "## Importando o Dados do google Drive para o Colab\n"
      ]
    },
    {
      "cell_type": "markdown",
      "metadata": {},
      "source": []
    },
    {
      "cell_type": "code",
      "execution_count": null,
      "metadata": {
        "id": "dZqxBPwTuDiO"
      },
      "outputs": [],
      "source": [
        "import os\n",
        "from google.colab import drive\n",
        "import pandas as pd\n",
        "\n",
        "# Montar o Google Drive\n",
        "drive.mount ('/content/drive', force_remount=True)\n",
        "\n",
        "#Caminho para o arquivo .csv no google drive\n",
        "csv_path = '/content/drive/MyDrive/ANALISTA DE DADOS/PROJETOS SENAC ANALISTA DE DADOS/PROJETO EM GRUPO - MODULO 4/2004-2021.tsv'\n",
        "\n",
        "# Ler o arquivo .csv usando Pandas\n",
        "df = pd.read_csv(csv_path, encoding='utf-8', sep='\\t')\n",
        "\n",
        "display(df)"
      ]
    }
  ],
  "metadata": {
    "colab": {
      "authorship_tag": "ABX9TyPm2wN8fEk8YcXkVDNcVruF",
      "include_colab_link": true,
      "mount_file_id": "17vwjV7cnDbchE1sVAGkjXAUUAvqkFWiN",
      "provenance": []
    },
    "kernelspec": {
      "display_name": "Python 3",
      "name": "python3"
    },
    "language_info": {
      "codemirror_mode": {
        "name": "ipython",
        "version": 3
      },
      "file_extension": ".py",
      "mimetype": "text/x-python",
      "name": "python",
      "nbconvert_exporter": "python",
      "pygments_lexer": "ipython3",
      "version": "3.11.5"
    }
  },
  "nbformat": 4,
  "nbformat_minor": 0
}
