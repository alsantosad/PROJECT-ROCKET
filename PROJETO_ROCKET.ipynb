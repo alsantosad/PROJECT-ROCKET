{
  "cells": [
    {
      "cell_type": "markdown",
      "metadata": {
        "colab_type": "text",
        "id": "view-in-github"
      },
      "source": [
        "<a href=\"https://colab.research.google.com/github/alsantosad/PROJECT-ROCKET/blob/master/PROJETO_ROCKET.ipynb\" target=\"_parent\"><img src=\"https://colab.research.google.com/assets/colab-badge.svg\" alt=\"Open In Colab\"/></a>"
      ]
    },
    {
      "cell_type": "markdown",
      "metadata": {},
      "source": [
        "## **Importando Dados do GitHub**"
      ]
    },
    {
      "cell_type": "markdown",
      "metadata": {},
      "source": [
        "### ***Importando biblioteca Pandas***"
      ]
    },
    {
      "cell_type": "code",
      "execution_count": 9,
      "metadata": {},
      "outputs": [],
      "source": [
        "import pandas as pd"
      ]
    },
    {
      "cell_type": "markdown",
      "metadata": {},
      "source": [
        "### ***Leitura dos DataSets***"
      ]
    },
    {
      "cell_type": "code",
      "execution_count": null,
      "metadata": {},
      "outputs": [],
      "source": [
        "\n",
        "data11 = pd.read_csv('./DADOS/precos-gasolina-etanol-11.csv', sep=';')\n",
        "data10 = pd.read_csv('./DADOS/precos-gasolina-etanol-10.csv',sep=';')\n",
        "data10"
      ]
    },
    {
      "cell_type": "markdown",
      "metadata": {},
      "source": [
        "```data11.head()``` ou ```.head()```\n",
        "Exibirá as primeiras cinco linhas do DataFrame chamado data11. Essa operação é útil para dar uma rápida olhada nos dados e entender sua estrutura e conteúdo."
      ]
    },
    {
      "cell_type": "code",
      "execution_count": null,
      "metadata": {},
      "outputs": [],
      "source": [
        "data11.head()"
      ]
    },
    {
      "cell_type": "markdown",
      "metadata": {},
      "source": [
        "***Informações Gerais do DataSet***\n",
        "Com essas informações conseguimos fazer uma limpeza dos valores nulos por exemplo."
      ]
    },
    {
      "cell_type": "code",
      "execution_count": 14,
      "metadata": {},
      "outputs": [
        {
          "name": "stdout",
          "output_type": "stream",
          "text": [
            "<class 'pandas.core.frame.DataFrame'>\n",
            "RangeIndex: 57475 entries, 0 to 57474\n",
            "Data columns (total 16 columns):\n",
            " #   Column             Non-Null Count  Dtype  \n",
            "---  ------             --------------  -----  \n",
            " 0   Regiao - Sigla     57475 non-null  object \n",
            " 1   Estado - Sigla     57475 non-null  object \n",
            " 2   Municipio          57475 non-null  object \n",
            " 3   Revenda            57475 non-null  object \n",
            " 4   CNPJ da Revenda    57475 non-null  object \n",
            " 5   Nome da Rua        57475 non-null  object \n",
            " 6   Numero Rua         57449 non-null  object \n",
            " 7   Complemento        12899 non-null  object \n",
            " 8   Bairro             57349 non-null  object \n",
            " 9   Cep                57475 non-null  object \n",
            " 10  Produto            57475 non-null  object \n",
            " 11  Data da Coleta     57475 non-null  object \n",
            " 12  Valor de Venda     57475 non-null  object \n",
            " 13  Valor de Compra    0 non-null      float64\n",
            " 14  Unidade de Medida  57475 non-null  object \n",
            " 15  Bandeira           57475 non-null  object \n",
            "dtypes: float64(1), object(15)\n",
            "memory usage: 7.0+ MB\n"
          ]
        }
      ],
      "source": [
        "data10.info()"
      ]
    },
    {
      "cell_type": "markdown",
      "metadata": {},
      "source": []
    },
    {
      "cell_type": "code",
      "execution_count": null,
      "metadata": {},
      "outputs": [],
      "source": []
    }
  ],
  "metadata": {
    "colab": {
      "authorship_tag": "ABX9TyPm2wN8fEk8YcXkVDNcVruF",
      "include_colab_link": true,
      "mount_file_id": "17vwjV7cnDbchE1sVAGkjXAUUAvqkFWiN",
      "provenance": []
    },
    "kernelspec": {
      "display_name": "Python 3",
      "name": "python3"
    },
    "language_info": {
      "codemirror_mode": {
        "name": "ipython",
        "version": 3
      },
      "file_extension": ".py",
      "mimetype": "text/x-python",
      "name": "python",
      "nbconvert_exporter": "python",
      "pygments_lexer": "ipython3",
      "version": "3.11.5"
    }
  },
  "nbformat": 4,
  "nbformat_minor": 0
}
