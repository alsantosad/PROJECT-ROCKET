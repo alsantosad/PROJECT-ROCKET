{
  "nbformat": 4,
  "nbformat_minor": 0,
  "metadata": {
    "colab": {
      "provenance": [],
      "mount_file_id": "17vwjV7cnDbchE1sVAGkjXAUUAvqkFWiN",
      "authorship_tag": "ABX9TyPm2wN8fEk8YcXkVDNcVruF",
      "include_colab_link": true
    },
    "kernelspec": {
      "name": "python3",
      "display_name": "Python 3"
    },
    "language_info": {
      "name": "python"
    }
  },
  "cells": [
    {
      "cell_type": "markdown",
      "metadata": {
        "id": "view-in-github",
        "colab_type": "text"
      },
      "source": [
        "<a href=\"https://colab.research.google.com/github/alsantosad/PROJECT-ROCKET/blob/master/PROJETO_ROCKET.ipynb\" target=\"_parent\"><img src=\"https://colab.research.google.com/assets/colab-badge.svg\" alt=\"Open In Colab\"/></a>"
      ]
    },
    {
      "cell_type": "markdown",
      "source": [
        "## Importando o Dados\n"
      ],
      "metadata": {
        "id": "4Z2KtCzbt7fv"
      }
    },
    {
      "cell_type": "code",
      "source": [
        "import os\n",
        "from google.colab import drive\n",
        "import pandas as pd\n",
        "\n",
        "# Montar o Google Drive\n",
        "drive.mount ('/content/drive', force_remount=True)\n",
        "\n",
        "#Caminho para o arquivo .csv no google drive\n",
        "csv_path = '/content/drive/MyDrive/ANALISTA DE DADOS/PROJETOS SENAC ANALISTA DE DADOS/PROJETO EM GRUPO - MODULO 4/2004-2021.tsv'\n",
        "\n",
        "# Ler o arquivo .csv usando Pandas\n",
        "df = pd.read_csv(csv_path, encoding='utf-8', sep='\\t')\n",
        "\n",
        "display(df)"
      ],
      "metadata": {
        "id": "dZqxBPwTuDiO"
      },
      "execution_count": null,
      "outputs": []
    }
  ]
}