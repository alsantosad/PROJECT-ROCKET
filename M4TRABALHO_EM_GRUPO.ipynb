{
  "nbformat": 4,
  "nbformat_minor": 0,
  "metadata": {
    "colab": {
      "provenance": [],
      "collapsed_sections": [
        "RJVUOCX0UEaH"
      ],
      "toc_visible": true,
      "include_colab_link": true
    },
    "kernelspec": {
      "name": "python3",
      "display_name": "Python 3"
    },
    "language_info": {
      "name": "python"
    }
  },
  "cells": [
    {
      "cell_type": "markdown",
      "metadata": {
        "id": "view-in-github",
        "colab_type": "text"
      },
      "source": [
        "<a href=\"https://colab.research.google.com/github/alsantosad/PROJECT-ROCKET/blob/backstage/M4TRABALHO_EM_GRUPO.ipynb\" target=\"_parent\"><img src=\"https://colab.research.google.com/assets/colab-badge.svg\" alt=\"Open In Colab\"/></a>"
      ]
    },
    {
      "cell_type": "markdown",
      "source": [
        "#***TRABALHO EM GRUPO***"
      ],
      "metadata": {
        "id": "i7GImMhITw2X"
      }
    },
    {
      "cell_type": "markdown",
      "source": [
        "##***CONTEXTO***\n",
        "Você e a sua equipe foram escalados pela Agência Nacional de Petróleo e Gás\n",
        "Natural e Biocombustíveis (ANP) para realizar uma análise exploratória\n",
        "relacionada à série histórica de preço de venda da gasolina e do etanol.\n",
        "\n",
        "A ANP é um centro de referência em dados e informações sobre a indústria de petróleo e gás natural no Brasil, que mantém o Banco de Dados de Exploração e\n",
        "Produção (BDEP); divulga as estatísticas oficiais sobre reservas, refino e produção\n",
        "de petróleo, gás e biocombustíveis no Brasil;\n",
        "realiza e divulga pesquisas sobre\n",
        "qualidade dos combustíveis e lubrificantes e sobre o comportamento dos preços\n",
        "desses produtos; promove estudos sobre o potencial petrolífero e o\n",
        "desenvolvimento do setor; entre outras atividades"
      ],
      "metadata": {
        "id": "RJVUOCX0UEaH"
      }
    },
    {
      "cell_type": "markdown",
      "source": [
        "Realizar a análise exploratória a partir das fontes de dados\n",
        "disponíveis no portal gov.br.\n",
        "\n",
        "Serão utilizados os arquivos\n",
        "dos dois últimos meses do ano atual (Etanol Hidratado +\n",
        "Gasolina C) contendo a série histórica dos preços da\n",
        "gasolina e do etanol em todo o Brasil.\n"
      ],
      "metadata": {
        "id": "aCzyp55wW-wV"
      }
    },
    {
      "cell_type": "markdown",
      "source": [
        "A análise deve responder às seguintes perguntas:\n",
        "1. Como se comportaram o preço dos combustíveis durante os dois meses citados? Os valores do\n",
        "etanol e da gasolina tiveram uma tendência de queda ou aumento?\n",
        "2. Qual o preço médio da gasolina e do etanol nesses dois meses?\n",
        "3. Quais os 5 estados com o preço médio da gasolina e do etanol mais caros?\n",
        "4. Qual o preço médio da gasolina e do etanol por estado?\n",
        "5. Qual o município que possui o menor preço para a gasolina e para o etanol?\n",
        "6. Qual o município que possui o maior preço para a gasolina e para o etanol?\n",
        "7. Qual a região que possui o maior valor médio da gasolina?\n",
        "8. Qual a região que possui o menor valor médio do etanol?\n",
        "9. Há alguma correlação entre o valor do combustível (gasolina e etanol) e a região onde ele é vendido?\n",
        "10. Há alguma correlação entre o valor do combustível (gasolina e etanol) e a bandeira que vende ele?\n",
        "Além disso, vocês deverão pensar em mais três perguntas que deverão ser respondidas por scripts."
      ],
      "metadata": {
        "id": "NAbHBGLxXMGk"
      }
    },
    {
      "cell_type": "markdown",
      "source": [
        "##***Importando Bibliotecas***"
      ],
      "metadata": {
        "id": "p_WsB63IXa8c"
      }
    },
    {
      "cell_type": "code",
      "source": [
        "import pandas as pd\n",
        "import numpy as np\n",
        "import matplotlib.pyplot as plt\n",
        "import seaborn as sns\n",
        "from sklearn.preprocessing import OneHotEncoder"
      ],
      "metadata": {
        "id": "dfwiXECgXais"
      },
      "execution_count": null,
      "outputs": []
    },
    {
      "cell_type": "markdown",
      "source": [
        "##***Analise Exploratória***"
      ],
      "metadata": {
        "id": "_VFlpsxBvq4K"
      }
    },
    {
      "cell_type": "markdown",
      "source": [
        "###***Leitura dos Datasets***"
      ],
      "metadata": {
        "id": "H7rLkyyPXSPM"
      }
    },
    {
      "cell_type": "code",
      "source": [
        "#Lendo os csv pelo link do site\n",
        "\n",
        "# Primeiro arquivo referente ao mês 11\n",
        "url1 = 'https://raw.githubusercontent.com/alsantosad/PROJECT-ROCKET/master/DADOS/precos-gasolina-etanol-11.csv'\n",
        "df1 = pd.read_csv(url1,sep=';')\n",
        "\n",
        "# Segundo arquivo referente ao mês 12\n",
        "url2 = 'https://raw.githubusercontent.com/alsantosad/PROJECT-ROCKET/master/DADOS/precos-gasolina-etanol-12.csv'\n",
        "df2 = pd.read_csv(url2,sep=';')"
      ],
      "metadata": {
        "id": "EiyHo0AbTwS4"
      },
      "execution_count": null,
      "outputs": []
    },
    {
      "cell_type": "markdown",
      "source": [
        "###***Visualizando os Datasets Separados***"
      ],
      "metadata": {
        "id": "GSTlQDZ1vv0U"
      }
    },
    {
      "cell_type": "code",
      "source": [
        "#Visualizando os dados do data set\n",
        "df1.head(2)"
      ],
      "metadata": {
        "id": "Gprj5u7iowtb"
      },
      "execution_count": null,
      "outputs": []
    },
    {
      "cell_type": "code",
      "source": [
        "#Visualizando os dados do data set\n",
        "df2.head(2)"
      ],
      "metadata": {
        "id": "wh0UcXGmpSJy"
      },
      "execution_count": null,
      "outputs": []
    },
    {
      "cell_type": "code",
      "source": [
        "#Visualizando numero de linhas e colunas dos 2 Datasets\n",
        "print(df1.shape,df2.shape)"
      ],
      "metadata": {
        "id": "Fw40wTONqs4g"
      },
      "execution_count": null,
      "outputs": []
    },
    {
      "cell_type": "markdown",
      "source": [
        "###***Juntando os Datasets com a Função (`concat()`)***"
      ],
      "metadata": {
        "id": "IFJpxkTgv6st"
      }
    },
    {
      "cell_type": "code",
      "source": [
        "#Datasets juntos `df1, df2` e ignorando o index para melhor organização do Dataset\n",
        "#Ignore index ajuda não dar erro\n",
        "df = pd.concat([df1, df2],ignore_index=True)\n",
        "df.head(2)"
      ],
      "metadata": {
        "id": "RFdnGaJ5p9KS"
      },
      "execution_count": null,
      "outputs": []
    },
    {
      "cell_type": "markdown",
      "source": [
        "##***Limpeza dos Dados que vamos Trabalhar***"
      ],
      "metadata": {
        "id": "RPxSg9C6x_gd"
      }
    },
    {
      "cell_type": "markdown",
      "source": [
        "###***Visualizando as valores da coluna de varias formas***"
      ],
      "metadata": {
        "id": "aZLAHZhLyFei"
      }
    },
    {
      "cell_type": "code",
      "source": [
        "#Visualizando as informações da coluna \"Valor de Compra\"\n",
        "df['Valor de Compra'].info()"
      ],
      "metadata": {
        "id": "5-VZTcHUvQ1U"
      },
      "execution_count": null,
      "outputs": []
    },
    {
      "cell_type": "code",
      "source": [
        "# Visualizando a descrição\n",
        "df['Valor de Compra'].describe"
      ],
      "metadata": {
        "id": "MukOBibZwEMt"
      },
      "execution_count": null,
      "outputs": []
    },
    {
      "cell_type": "code",
      "source": [
        "# Visualizando os tipos de valores\n",
        "df['Valor de Compra'].value_counts"
      ],
      "metadata": {
        "id": "SnHN2Vqa0W0Q"
      },
      "execution_count": null,
      "outputs": []
    },
    {
      "cell_type": "code",
      "source": [
        "#Visualizando os Tipos unicos de Valores na coluna\n",
        "#Interessante, a função (.unique()) retorna um array\n",
        "#A função (.unique) sem parentese retorna uma serie\n",
        "#Diferentes metodos de visualização\n",
        "df['Valor de Compra'].unique()"
      ],
      "metadata": {
        "id": "FUZRWOi9xNeE"
      },
      "execution_count": null,
      "outputs": []
    },
    {
      "cell_type": "markdown",
      "source": [
        "###***Corrigindo valores das colunas***"
      ],
      "metadata": {
        "id": "DCqJUa8nyV1n"
      }
    },
    {
      "cell_type": "code",
      "source": [
        "# Corrigindo valores em \"Valor de Venda\". Substituindo as (,)virgulas por (.)ponto.\n",
        "df['Valor de Venda'] = df['Valor de Venda'].str.replace(',', '.').astype(float)"
      ],
      "metadata": {
        "id": "oswEyfJvxI7d"
      },
      "execution_count": null,
      "outputs": []
    },
    {
      "cell_type": "code",
      "source": [
        "# Formatando a coluna Data da Coleta de str para DATE utilizando a função TO_DATETIME\n",
        "df['Data da Coleta'] = pd.to_datetime(df['Data da Coleta'], format='%d/%m/%Y')\n",
        "df"
      ],
      "metadata": {
        "id": "To1M6LHdltfd"
      },
      "execution_count": null,
      "outputs": []
    },
    {
      "cell_type": "markdown",
      "source": [
        "###***Limpeza dos Dados, Removendo colunas indesejadas***"
      ],
      "metadata": {
        "id": "1OACxBT0yejS"
      }
    },
    {
      "cell_type": "code",
      "source": [
        "#Removendo colunas que não serão uteis.\n",
        "dfproc = df.drop(columns=['Valor de Compra','Nome da Rua','Numero Rua','Complemento','Cep','CNPJ da Revenda','Revenda'])\n",
        "dfproc.head(2)"
      ],
      "metadata": {
        "id": "enR1mlm6BUwA"
      },
      "execution_count": null,
      "outputs": []
    },
    {
      "cell_type": "code",
      "source": [
        "#Visualizando as informações da coluna, pois vamos trabalhar com ela.\n",
        "dfproc['Valor de Venda'].info()"
      ],
      "metadata": {
        "id": "s1c-5mNWEFO9"
      },
      "execution_count": null,
      "outputs": []
    },
    {
      "cell_type": "markdown",
      "source": [
        "##***1. Como se comportaram o preço dos combustíveis durante os dois meses citados? Os valores do etanol e da gasolina tiveram uma tendência de queda ou diminuição?***"
      ],
      "metadata": {
        "id": "Np6WnPXMEs5B"
      }
    },
    {
      "cell_type": "code",
      "source": [
        "#Verificando se o média do Valor do Etanol está de acordo com o gráfico mostrado\n",
        "dfproc[dfproc['Produto'] == 'ETANOL']['Valor de Venda'].mean"
      ],
      "metadata": {
        "id": "qQxOkWTMqGXN"
      },
      "execution_count": null,
      "outputs": []
    },
    {
      "cell_type": "code",
      "source": [
        "#Achando o Minimo e o Maximo do Valor de Venda do ETANOL\n",
        "maior_valor_etanol = dfproc[dfproc['Produto'] == 'ETANOL']['Valor de Venda'].max()\n",
        "menor_valor_etanol = dfproc[dfproc['Produto'] == 'ETANOL']['Valor de Venda'].min()\n",
        "display(f'O maior valor do Etanol é {maior_valor_etanol}')\n",
        "display(f'O menor valor do Etanol é {menor_valor_etanol}')"
      ],
      "metadata": {
        "id": "7oE3ulbQrNRU"
      },
      "execution_count": null,
      "outputs": []
    },
    {
      "cell_type": "code",
      "source": [
        "#Buscando o maior valor de Venda do Etanol (Verificando Outlier)\n",
        "maior_valor_etanol = dfproc[(dfproc['Produto'] == 'ETANOL') & (dfproc['Valor de Venda'] == 6.6)]\n",
        "maior_valor_etanol.head(4)"
      ],
      "metadata": {
        "id": "dgb1K0bQttKi"
      },
      "execution_count": null,
      "outputs": []
    },
    {
      "cell_type": "code",
      "source": [
        "# Supondo que 'dados' é o DataFrame que contém seus dados\n",
        "media_etanol = dfproc[dfproc['Produto'] == 'ETANOL']['Valor de Venda'].mean()\n",
        "\n",
        "print(f'Média do valor de venda do Etanol: {media_etanol}')\n"
      ],
      "metadata": {
        "id": "7mmJcyM9pKo8"
      },
      "execution_count": null,
      "outputs": []
    },
    {
      "cell_type": "code",
      "source": [
        "# Agrupando por semana e tipo de combustível, e calculando a média dos preços de venda\n",
        "comport = dfproc.groupby([pd.Grouper(key='Data da Coleta', freq='W'), 'Produto'])['Valor de Venda'].median().reset_index()\n",
        "#Plotando o gráfico de linha\n",
        "fig, ax = plt.subplots(figsize=(10, 6))\n",
        "plt.xticks(rotation=45)\n",
        "sns.lineplot(data=comport, x='Data da Coleta', y='Valor de Venda', hue='Produto', ax=ax)\n",
        "plt.show()\n"
      ],
      "metadata": {
        "id": "_MeYpy43EsTO"
      },
      "execution_count": null,
      "outputs": []
    },
    {
      "cell_type": "code",
      "source": [
        "comport = dfproc.groupby([pd.Grouper(key='Data da Coleta', freq='W'), 'Produto'])['Valor de Venda'].median()\n",
        "comport"
      ],
      "metadata": {
        "id": "DMWQ9kr5I1aj"
      },
      "execution_count": null,
      "outputs": []
    },
    {
      "cell_type": "code",
      "source": [
        "dfproc.head(2)"
      ],
      "metadata": {
        "id": "-xkEwA3gA0fW"
      },
      "execution_count": null,
      "outputs": []
    },
    {
      "cell_type": "markdown",
      "source": [
        "##***2. Qual o preço médio da gasolina e do etanol nesses dois meses?***"
      ],
      "metadata": {
        "id": "KYhmN3JkAh4d"
      }
    },
    {
      "cell_type": "code",
      "source": [
        "# Filtrar apenas as linhas relacionadas à gasolina\n",
        "gasolina_df = dfproc[dfproc['Produto'] == 'GASOLINA']\n",
        "\n",
        "# Filtrar apenas as linhas relacionadas ao etanol\n",
        "etanol_df = dfproc[dfproc['Produto'] == 'ETANOL']\n",
        "\n",
        "# Calcular o preço médio da gasolina\n",
        "preco_medio_gasolina = gasolina_df['Valor de Venda'].mean()\n",
        "\n",
        "# Calcular o preço médio do etanol\n",
        "preco_medio_etanol = etanol_df['Valor de Venda'].mean()\n",
        "\n",
        "# Dados para o gráfico\n",
        "produtos = ['Gasolina', 'Etanol']\n",
        "precos_medios = [preco_medio_gasolina, preco_medio_etanol]\n",
        "\n",
        "# Criar o gráfico de barras\n",
        "plt.bar(produtos, precos_medios, color=['orange', 'blue'])\n",
        "\n",
        "# Adicionar rótulos e título ao gráfico\n",
        "plt.xlabel('Produto')\n",
        "plt.ylabel('Preço Médio (R$/litro)')\n",
        "plt.title('Preço Médio da Gasolina e Etanol')\n",
        "\n",
        "# Mostrar o gráfico\n",
        "plt.show()\n"
      ],
      "metadata": {
        "id": "ruKwwINi0moN"
      },
      "execution_count": null,
      "outputs": []
    },
    {
      "cell_type": "markdown",
      "source": [
        "##***3. Quais os 5 estados com o preço médio da gasolina e do etanol mais caros?***"
      ],
      "metadata": {
        "id": "ltQ5sa6A1z6D"
      }
    },
    {
      "cell_type": "code",
      "source": [
        "dfproc.head(3)"
      ],
      "metadata": {
        "id": "lIVYpPZA2Msi"
      },
      "execution_count": null,
      "outputs": []
    },
    {
      "cell_type": "code",
      "source": [
        "# Filtra apenas as linhas relacionadas à gasolina\n",
        "gasolina_df = dfproc[dfproc['Produto'] == 'GASOLINA']\n",
        "\n",
        "# Filtra apenas as linhas relacionadas ao etanol\n",
        "etanol_df = dfproc[dfproc['Produto'] == 'ETANOL']\n",
        "\n",
        "# Calcula o preço médio da gasolina para cada estado\n",
        "media_gasolina_por_estado = gasolina_df.groupby('Estado - Sigla')['Valor de Venda'].mean()\n",
        "\n",
        "# Calcula o preço médio do etanol para cada estado\n",
        "media_etanol_por_estado = etanol_df.groupby('Estado - Sigla')['Valor de Venda'].mean()\n",
        "\n",
        "# Obtém os 5 estados com os preços médios mais altos para a gasolina\n",
        "top5_gasolina = media_gasolina_por_estado.nlargest(5)\n",
        "\n",
        "# Obtém os 5 estados com os preços médios mais altos para o etanol\n",
        "top5_etanol = media_etanol_por_estado.nlargest(5)\n",
        "\n",
        "# Exibe os resultados\n",
        "print('Top 5 Estados com Preço Médio mais Alto para Gasolina:')\n",
        "print(top5_gasolina)\n",
        "\n",
        "print('\\nTop 5 Estados com Preço Médio mais Alto para Etanol:')\n",
        "print(top5_etanol)\n"
      ],
      "metadata": {
        "id": "XvExQmUR2dKY"
      },
      "execution_count": null,
      "outputs": []
    },
    {
      "cell_type": "code",
      "source": [
        "# Configuração do gráfico de barras para a gasolina\n",
        "plt.figure(figsize=(10, 5))\n",
        "plt.barh(top5_gasolina.index, top5_gasolina, color='orange', label='Gasolina')\n",
        "\n",
        "# Configuração do gráfico de barras para o etanol\n",
        "plt.barh(top5_etanol.index, top5_etanol, color='blue', label='Etanol')\n",
        "\n",
        "# Adiciona rótulos e título ao gráfico\n",
        "plt.xlabel('Preço Médio (R$/litro)')\n",
        "plt.ylabel('Estado')\n",
        "plt.title('Top 5 Estados com Preço Médio mais Alto para Gasolina e Etanol')\n",
        "plt.legend()\n",
        "\n",
        "# Mostra o gráfico\n",
        "plt.show()\n"
      ],
      "metadata": {
        "id": "AndNBUlx5tGX"
      },
      "execution_count": null,
      "outputs": []
    },
    {
      "cell_type": "markdown",
      "source": [
        "##***4. Qual o preço médio da gasolina e do etanol por estado?***"
      ],
      "metadata": {
        "id": "A7y7Gdh3-0Vo"
      }
    },
    {
      "cell_type": "code",
      "source": [
        "# Filtra apenas as linhas relacionadas à gasolina\n",
        "gasolina_df = dfproc[dfproc['Produto'] == 'GASOLINA']\n",
        "\n",
        "# Filtra apenas as linhas relacionadas ao etanol\n",
        "etanol_df = dfproc[dfproc['Produto'] == 'ETANOL']\n",
        "\n",
        "# Calcula o preço médio da gasolina para cada estado\n",
        "media_gasolina_por_estado = gasolina_df.groupby('Estado - Sigla')['Valor de Venda'].mean()\n",
        "\n",
        "# Calcula o preço médio do etanol para cada estado\n",
        "media_etanol_por_estado = etanol_df.groupby('Estado - Sigla')['Valor de Venda'].mean()\n",
        "\n",
        "print(f'A média do Preço da Gasolina por Estado é {media_gasolina_por_estado}')\n",
        "print(f'A média do Preço do Etanol por Estado é {media_etanol_por_estado}')"
      ],
      "metadata": {
        "id": "exDnc2A_8PgK"
      },
      "execution_count": null,
      "outputs": []
    },
    {
      "cell_type": "code",
      "source": [
        "# Juntando os dataframes para facilitar a visualização\n",
        "df = pd.DataFrame({'Gasolina': media_gasolina_por_estado, 'Etanol': media_etanol_por_estado}).reset_index()\n",
        "\n",
        "# Criando o gráfico de linhas usando seaborn com cores personalizadas\n",
        "plt.figure(figsize=(10, 6))\n",
        "sns.lineplot(data=df.melt('Estado - Sigla', var_name='Combustível', value_name='Preço Médio (R$/litro)'),\n",
        "             x='Estado - Sigla', y='Preço Médio (R$/litro)', hue='Combustível', marker='o', palette={'Gasolina': 'orange', 'Etanol': 'blue'})\n",
        "plt.title('Preço Médio da Gasolina e Etanol por Estado (com linha)')\n",
        "plt.xlabel('Estado - Sigla')\n",
        "plt.ylabel('Preço Médio (R$/litro)')\n",
        "\n",
        "plt.show()"
      ],
      "metadata": {
        "id": "vzAMGDu1rwBv"
      },
      "execution_count": null,
      "outputs": []
    },
    {
      "cell_type": "markdown",
      "source": [
        "##***5. Qual o município que possui o menor preço para a gasolina e para o etanol?***"
      ],
      "metadata": {
        "id": "7bTrqDQ5R37Q"
      }
    },
    {
      "cell_type": "code",
      "source": [
        "# Calcula o preço minimo da gasolina para cada estado\n",
        "min_gasolina_por_municipio = gasolina_df.groupby('Municipio')['Valor de Venda'].min()\n",
        "municipio_menor_gasolina = min_gasolina_por_municipio.sort_values().head(1)\n",
        "df_municipio_menor_gasolina = pd.DataFrame(municipio_menor_gasolina)\n",
        "df_municipio_menor_gasolina"
      ],
      "metadata": {
        "id": "ZhqqVkwfR5Kv"
      },
      "execution_count": null,
      "outputs": []
    },
    {
      "cell_type": "code",
      "source": [
        "# Calcula o preço minimo do etanol para cada municipio\n",
        "min_etanol_por_municipio = etanol_df.groupby('Municipio')['Valor de Venda'].min()\n",
        "municipio_menor_etanol = min_etanol_por_municipio.sort_values().head(1)\n",
        "df_municipio_menor_etanol = pd.DataFrame(municipio_menor_etanol)\n",
        "df_municipio_menor_etanol"
      ],
      "metadata": {
        "id": "J7qCo7-SSU_v"
      },
      "execution_count": null,
      "outputs": []
    },
    {
      "cell_type": "markdown",
      "source": [
        "##***6. Qual o município que possui o maior preço para a gasolina e para o etanol?***\n"
      ],
      "metadata": {
        "id": "-6ZhoV1_UHLg"
      }
    },
    {
      "cell_type": "code",
      "source": [
        "# Calcula o preço maximo da gasolina para cada municipio\n",
        "max_gasolina_por_municipio = gasolina_df.groupby('Municipio')['Valor de Venda'].max()\n",
        "municipio_max_gasolina = max_gasolina_por_municipio.sort_values().head(1)\n",
        "df_municipio_max_gasolina = pd.DataFrame(municipio_max_gasolina)\n",
        "df_municipio_max_gasolina"
      ],
      "metadata": {
        "id": "yAiJe2NIUIU4"
      },
      "execution_count": null,
      "outputs": []
    },
    {
      "cell_type": "code",
      "source": [
        "# Calcula o preço maximo do etanol para cada estado\n",
        "max_etanol_por_municipio = etanol_df.groupby('Municipio')['Valor de Venda'].max()\n",
        "municipio_max_etanol = max_etanol_por_municipio.sort_values().head(1)\n",
        "df_municipio_max_etanol=pd.DataFrame(municipio_max_etanol)\n",
        "df_municipio_max_etanol"
      ],
      "metadata": {
        "id": "uwFhZ-rJUQH3"
      },
      "execution_count": null,
      "outputs": []
    },
    {
      "cell_type": "markdown",
      "source": [
        "##***7. Qual a região que possui o maior valor médio da gasolina?***"
      ],
      "metadata": {
        "id": "6MhuQrXOUa_p"
      }
    },
    {
      "cell_type": "code",
      "source": [
        "media_gasolina_por_regiao = gasolina_df.groupby(\"Regiao - Sigla\")['Valor de Venda'].mean()\n",
        "\n",
        "regiao_maior_media_gasolina = media_gasolina_por_regiao.idxmax()\n",
        "valor_maior_media_gasolina = media_gasolina_por_regiao.max()\n",
        "\n",
        "print(f'A região com o maior valor médio de gasolina é {regiao_maior_media_gasolina} com média de {valor_maior_media_gasolina:.2f} R$/litro.')\n",
        "\n",
        "regioes_ordenadas = media_gasolina_por_regiao.sort_values(ascending=False)\n",
        "\n",
        "df_regiao_max_gasolina = pd.DataFrame(regioes_ordenadas)\n",
        "df_regiao_max_gasolina"
      ],
      "metadata": {
        "id": "wYjYMiFGUcQ6"
      },
      "execution_count": null,
      "outputs": []
    },
    {
      "cell_type": "markdown",
      "source": [
        "##***8.Qual a região que possui o menor valor médio do etanol?***"
      ],
      "metadata": {
        "id": "6cAdWacB7Kbn"
      }
    },
    {
      "cell_type": "code",
      "source": [
        "media_etanol_por_regiao = etanol_df.groupby(\"Regiao - Sigla\")['Valor de Venda'].mean()\n",
        "\n",
        "regiao_maior_media_etanol = media_etanol_por_regiao.idxmax()\n",
        "valor_maior_media_etanol = media_etanol_por_regiao.max()\n",
        "\n",
        "print(f'A região com o maior valor médio de Etanol é {regiao_maior_media_etanol} com média de {valor_maior_media_etanol:.2f} R$/litro.')\n",
        "\n",
        "regioes_ordenadas = media_etanol_por_regiao.sort_values(ascending=False)\n",
        "\n",
        "df_regiao_media_etanol = pd.DataFrame(regioes_ordenadas)\n",
        "df_regiao_media_etanol"
      ],
      "metadata": {
        "id": "DB_SKnm27c3f"
      },
      "execution_count": null,
      "outputs": []
    },
    {
      "cell_type": "markdown",
      "source": [
        "##***9. Há alguma correlação entre o valor do combustível (gasolina e etanol) e a região onde ele é vendido?***"
      ],
      "metadata": {
        "id": "yiGLrowtvv9W"
      }
    },
    {
      "cell_type": "code",
      "source": [
        "# Criando um novo DataFrame com os valores mínimo, médio e máximo\n",
        "df_summary = dfproc.groupby(['Regiao - Sigla', 'Produto'])['Valor de Venda'].agg(['min', 'mean', 'max']).reset_index()\n",
        "\n",
        "# Renomeando as colunas\n",
        "df_summary.columns = ['Regiao - Sigla', 'Produto', 'Preco minimo', 'Preco medio', 'Preco maximo']\n",
        "\n",
        "# Aplicando o teste de correlação com o DataFrame normal\n",
        "correlation_normal = df_summary[['Preco minimo', 'Preco medio', 'Preco maximo']].corr()\n",
        "\n",
        "# Imprimindo os resultados\n",
        "print(\"Correlation with normal DataFrame:\")\n",
        "print(correlation_normal)"
      ],
      "metadata": {
        "id": "TmLAnbA7vxSF",
        "colab": {
          "base_uri": "https://localhost:8080/"
        },
        "outputId": "0a23bb29-4090-41bf-cb72-7bd0f999eb6d"
      },
      "execution_count": null,
      "outputs": [
        {
          "output_type": "stream",
          "name": "stdout",
          "text": [
            "Correlation with normal DataFrame:\n",
            "              Preco minimo  Preco medio  Preco maximo\n",
            "Preco minimo      1.000000     0.992888      0.765161\n",
            "Preco medio       0.992888     1.000000      0.797306\n",
            "Preco maximo      0.765161     0.797306      1.000000\n"
          ]
        }
      ]
    },
    {
      "cell_type": "code",
      "source": [
        "# Codificando a coluna 'Regiao - Sigla' em variáveis binárias\n",
        "one_hot = pd.get_dummies(dfproc['Regiao - Sigla'])\n",
        "\n",
        "# Concatenando o novo DataFrame com o DataFrame original\n",
        "df_encoded = pd.concat([dfproc, one_hot], axis=1)\n",
        "\n",
        "# Calculando a correlação entre o valor do combustível e as novas variáveis de região\n",
        "correlacoes = df_encoded.corr()['Valor de Venda']\n",
        "\n",
        "# Selecionando apenas as correlações com as novas variáveis de região\n",
        "correlacoes_regiao = correlacoes[one_hot.columns]\n",
        "\n",
        "# Imprimindo as correlações\n",
        "print(correlacoes_regiao)\n",
        "\n",
        "# Criando um mapa de calor para visualizar as correlações\n",
        "plt.figure(figsize=(10, 10))\n",
        "sns.heatmap(correlacoes_regiao.to_frame(), cmap='coolwarm', annot=True)\n",
        "plt.show()\n",
        "\n"
      ],
      "metadata": {
        "id": "n2uLm_YwwI_F"
      },
      "execution_count": null,
      "outputs": []
    },
    {
      "cell_type": "markdown",
      "source": [
        "##***10. Há alguma correlação entre o valor do combustível (gasolina e etanol) e a bandeira que vende ele?***"
      ],
      "metadata": {
        "id": "DiffTajkvxs2"
      }
    },
    {
      "cell_type": "code",
      "source": [
        "# Criando o codificador\n",
        "encoder = OneHotEncoder(sparse=False)\n",
        "\n",
        "# Transformando a coluna de bandeira em variáveis binárias\n",
        "bandeira_encoded = encoder.fit_transform(dfproc[['Bandeira']])\n",
        "\n",
        "# Criando um DataFrame com as novas variáveis\n",
        "bandeira_df = pd.DataFrame(bandeira_encoded, columns=encoder.categories_[0])\n",
        "\n",
        "# Concatenando o novo DataFrame com o DataFrame original\n",
        "df_encoded = pd.concat([dfproc, bandeira_df], axis=1)\n",
        "\n",
        "# Calculando a correlação entre o valor do combustível e as novas variáveis de bandeira\n",
        "correlacoes = df_encoded.corr()['Valor de Venda']\n",
        "\n",
        "# Imprimindo as correlações\n",
        "print(correlacoes)\n",
        "\n",
        "# Criando um mapa de calor para visualizar as correlações\n",
        "plt.figure(figsize=(10, 10))\n",
        "sns.heatmap(correlacoes.to_frame(), cmap='coolwarm', annot=True)\n",
        "plt.show()\n",
        "\n",
        "\n",
        "\n",
        "\n"
      ],
      "metadata": {
        "id": "2UDHCMEZvzAF"
      },
      "execution_count": null,
      "outputs": []
    },
    {
      "cell_type": "markdown",
      "source": [
        "##***11. Qual a distribuição de bandeiras por região do país?***\n"
      ],
      "metadata": {
        "id": "Z5Bhw4ewDLXv"
      }
    },
    {
      "cell_type": "code",
      "source": [
        "# Contando o número de bandeiras em cada região\n",
        "distribuicao_bandeiras = dfproc.groupby(['Regiao - Sigla', 'Bandeira']).size().reset_index(name='Contagem')\n",
        "\n",
        "# Agrupando os dados por região e bandeira e contando o número de ocorrências\n",
        "distribuicao_bandeiras = distribuicao_bandeiras.groupby(['Regiao - Sigla', 'Bandeira'])['Contagem'].sum().unstack(fill_value=0)\n",
        "\n",
        "# Imprimindo a distribuição de bandeiras por região formatando-a\n",
        "with pd.option_context('display.max_rows', None, 'display.max_columns', None):\n",
        "    display(distribuicao_bandeiras)\n",
        "\n"
      ],
      "metadata": {
        "id": "MO8GOTzJDY2o"
      },
      "execution_count": null,
      "outputs": []
    },
    {
      "cell_type": "markdown",
      "source": [
        "##***12. Existe alguma relação entre a data do mês em que determinadas bandeiras são mais lucrativas?***"
      ],
      "metadata": {
        "id": "3nni5gYKDa_W"
      }
    },
    {
      "cell_type": "code",
      "source": [
        "# Extraindo o mês da data da coleta\n",
        "dfproc['Mes'] = dfproc['Data da Coleta'].dt.month\n",
        "\n",
        "# Calculando a soma do valor de venda para cada bandeira em cada mês\n",
        "lucro_por_mes = dfproc.groupby(['Mes', 'Bandeira'])['Valor de Venda'].sum().reset_index()\n",
        "\n",
        "# Encontrando o mês de maior lucro para cada bandeira\n",
        "mes_maior_lucro = lucro_por_mes.loc[lucro_por_mes.groupby('Bandeira')['Valor de Venda'].idxmax()]\n",
        "\n",
        "# Removendo o índice numérico\n",
        "mes_maior_lucro.set_index('Bandeira', inplace=True)\n",
        "\n",
        "# Formatando a saída\n",
        "mes_maior_lucro_styled = mes_maior_lucro.style.format({'Valor de Venda': 'R$ {:,.2f}'}).background_gradient(cmap='Blues')\n",
        "\n",
        "# Imprimindo o mês de maior lucro para cada bandeira\n",
        "display(mes_maior_lucro_styled)\n",
        "\n",
        "\n"
      ],
      "metadata": {
        "id": "0fk53pBqDdUe"
      },
      "execution_count": null,
      "outputs": []
    },
    {
      "cell_type": "markdown",
      "source": [
        "##***13. Existe alguma bandeira exclusiva de alguns estados?***"
      ],
      "metadata": {
        "id": "npZhJu0-DfAm"
      }
    },
    {
      "cell_type": "code",
      "source": [
        "# Para cada estado, percorrer lista de bandeira e arquivar e em dataframe\n"
      ],
      "metadata": {
        "id": "XRK-NHTPDiPt"
      },
      "execution_count": null,
      "outputs": []
    },
    {
      "cell_type": "code",
      "source": [
        "# Agrupando os dados por estado e bandeira\n",
        "bandeiras_por_estado = dfproc.groupby(['Estado - Sigla', 'Bandeira']).size().reset_index(name='Contagem')\n",
        "\n",
        "# Encontrando as bandeiras que aparecem apenas em um estado\n",
        "bandeiras_exclusivas = bandeiras_por_estado['Bandeira'].value_counts()\n",
        "bandeiras_exclusivas = bandeiras_exclusivas[bandeiras_exclusivas == 1]\n",
        "\n",
        "# Imprimindo as bandeiras exclusivas de alguns estados\n",
        "print(\"Bandeiras exclusivas de alguns estados:\")\n",
        "print(bandeiras_exclusivas)\n",
        "\n",
        "\n",
        "\n",
        "\n"
      ],
      "metadata": {
        "id": "iJ5_UMFCD1Ge"
      },
      "execution_count": null,
      "outputs": []
    },
    {
      "cell_type": "code",
      "source": [
        "# Agrupando os dados por estado e bandeira\n",
        "bandeiras_por_estado = dfproc.groupby(['Estado - Sigla', 'Bandeira']).size().reset_index(name='Contagem')\n",
        "\n",
        "# Encontrando as bandeiras que aparecem apenas em um estado\n",
        "bandeiras_exclusivas = bandeiras_por_estado['Bandeira'].value_counts()\n",
        "bandeiras_exclusivas = bandeiras_exclusivas[bandeiras_exclusivas == 1]\n",
        "\n",
        "# Obtendo os estados correspondentes às bandeiras exclusivas\n",
        "estados_bandeiras_exclusivas = bandeiras_por_estado[bandeiras_por_estado['Bandeira'].isin(bandeiras_exclusivas.index)]\n",
        "\n",
        "# Removendo a coluna 'Contagem'\n",
        "estados_bandeiras_exclusivas = estados_bandeiras_exclusivas.drop(columns='Contagem')\n",
        "\n",
        "# Formatando a saída\n",
        "estados_bandeiras_exclusivas_styled = estados_bandeiras_exclusivas.style.hide_index().set_properties(**{'background-color': 'lightblue', 'color': 'black'})\n",
        "\n",
        "# Imprimindo as bandeiras exclusivas de alguns estados\n",
        "display(estados_bandeiras_exclusivas_styled)\n",
        "\n"
      ],
      "metadata": {
        "id": "JLv2NPVjQ8zs"
      },
      "execution_count": null,
      "outputs": []
    }
  ]
}